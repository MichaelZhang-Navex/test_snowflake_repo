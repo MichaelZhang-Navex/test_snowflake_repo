{
 "metadata": {
  "language_info": {
   "name": "python"
  }
 },
 "nbformat_minor": 2,
 "nbformat": 4,
 "cells": [
  {
   "cell_type": "markdown",
   "metadata": {
    "name": "cell1"
   },
   "source": [
    "# notes"
   ],
   "id": "f19cd427-93da-47ec-b5dd-bdc2815aedfc"
  },
  {
   "cell_type": "code",
   "execution_count": null,
   "metadata": {
    "name": "cell2",
    "language": "python"
   },
   "outputs": [],
   "source": "print(\"hello\")",
   "id": "35137b1b-5dd9-4391-a58c-eff5d049501d"
  }
 ]
}